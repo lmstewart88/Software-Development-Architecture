{
  "nbformat": 4,
  "nbformat_minor": 0,
  "metadata": {
    "colab": {
      "name": "PythonFundamentalsSession02.ipynb",
      "provenance": [],
      "authorship_tag": "ABX9TyP3UHs9KB1XMWCuIj9LHM7S",
      "include_colab_link": true
    },
    "kernelspec": {
      "name": "python3",
      "display_name": "Python 3"
    },
    "language_info": {
      "name": "python"
    }
  },
  "cells": [
    {
      "cell_type": "markdown",
      "metadata": {
        "id": "view-in-github",
        "colab_type": "text"
      },
      "source": [
        "<a href=\"https://colab.research.google.com/github/lmstewart88/Software-Development-Architecture/blob/main/PythonFundamentalsSession02.ipynb\" target=\"_parent\"><img src=\"https://colab.research.google.com/assets/colab-badge.svg\" alt=\"Open In Colab\"/></a>"
      ]
    },
    {
      "cell_type": "code",
      "source": [
        "#identation in Python - One of the major syntax in Python; usually 4 spaces indented\n",
        "if 5 > 2:\n",
        "  print(\"five is greater than 2\")"
      ],
      "metadata": {
        "colab": {
          "base_uri": "https://localhost:8080/"
        },
        "id": "Oqha-xhrJD6O",
        "outputId": "4252068d-ce2a-4fda-cbb8-a75d4c3cf9f6"
      },
      "execution_count": null,
      "outputs": [
        {
          "output_type": "stream",
          "name": "stdout",
          "text": [
            "five is greater than 2\n"
          ]
        }
      ]
    },
    {
      "cell_type": "code",
      "source": [
        " myvar = 4\n",
        "    my_var = \"Hello\"\n",
        "    _my_var = True"
      ],
      "metadata": {
        "id": "HDvwiG-4KvX9"
      },
      "execution_count": null,
      "outputs": []
    },
    {
      "cell_type": "code",
      "source": [
        "#Camelcase\n",
        "disruptorBootCamp = \"Hello Welcome\"\n",
        "disruptorBootCamp "
      ],
      "metadata": {
        "id": "6EgWcTZ-Ldht"
      },
      "execution_count": null,
      "outputs": []
    },
    {
      "cell_type": "code",
      "source": [
        "#snakecase - commonly used in Python\n",
        "disrupt_bootcamp =\"Welcome\""
      ],
      "metadata": {
        "id": "PovIkFH0LsOw"
      },
      "execution_count": null,
      "outputs": []
    },
    {
      "cell_type": "code",
      "source": [
        "#Pascal case\n",
        "DisruptorBootCamp = \"Hi Welcome\" #new comment\n",
        "DisruptorBootCamp"
      ],
      "metadata": {
        "id": "2QTEXUHXL3xv"
      },
      "execution_count": null,
      "outputs": []
    },
    {
      "cell_type": "markdown",
      "source": [
        "#Multiline comments can be written like below:\n",
        "' ' '\n",
        "Hello, first line\n",
        "second\n",
        "third\n",
        "fourth\n",
        "'''"
      ],
      "metadata": {
        "id": "UZxnXT6hMX85"
      }
    },
    {
      "cell_type": "code",
      "source": [
        "#casting - enables you to change the type of variable. for example, from a a string to an integer\n",
        "var = \"5\"\n",
        "type(var)\n"
      ],
      "metadata": {
        "id": "Ud0sc3efMj8l"
      },
      "execution_count": null,
      "outputs": []
    },
    {
      "cell_type": "code",
      "source": [
        "var = int(var)\n",
        "type(var)"
      ],
      "metadata": {
        "colab": {
          "base_uri": "https://localhost:8080/"
        },
        "id": "eqK1HfKmNAIG",
        "outputId": "5317bdc2-a69a-49c8-9849-0950997b7448"
      },
      "execution_count": null,
      "outputs": [
        {
          "output_type": "execute_result",
          "data": {
            "text/plain": [
              "int"
            ]
          },
          "metadata": {},
          "execution_count": 4
        }
      ]
    },
    {
      "cell_type": "code",
      "source": [
        "height = int(150.0) #An example of how casting can be used to change from float to an integer"
      ],
      "metadata": {
        "id": "gNNwrEtwNGuE"
      },
      "execution_count": null,
      "outputs": []
    },
    {
      "cell_type": "code",
      "source": [
        "#Local and global scoping - How you access a variable that you have called. You have to declare it globally rather than locally. For example:\n",
        "name = \"David\" #Global scoping \n",
        "def print_name:\n",
        "  name = \"David\" #local scoping when it is declared within the function, so cannot be called anywhere\n",
        "  print(f\"Hello my name is {name}\")"
      ],
      "metadata": {
        "id": "vYyezoCLOGgs"
      },
      "execution_count": null,
      "outputs": []
    },
    {
      "cell_type": "code",
      "source": [
        "num = 54\n",
        "num % 12 #Modulus"
      ],
      "metadata": {
        "colab": {
          "base_uri": "https://localhost:8080/"
        },
        "id": "7RM2VGN1RMkY",
        "outputId": "f06779d1-bed2-4395-ee1d-43aa4b446fb0"
      },
      "execution_count": null,
      "outputs": [
        {
          "output_type": "execute_result",
          "data": {
            "text/plain": [
              "6"
            ]
          },
          "metadata": {},
          "execution_count": 8
        }
      ]
    },
    {
      "cell_type": "code",
      "source": [
        "num = 3\n",
        "num ** 4"
      ],
      "metadata": {
        "colab": {
          "base_uri": "https://localhost:8080/"
        },
        "id": "yoo9WWp-RYuh",
        "outputId": "22dc89a1-f247-44f1-ebd0-df8f4d9f5bbe"
      },
      "execution_count": null,
      "outputs": [
        {
          "output_type": "execute_result",
          "data": {
            "text/plain": [
              "81"
            ]
          },
          "metadata": {},
          "execution_count": 9
        }
      ]
    },
    {
      "cell_type": "code",
      "source": [
        "#comparison operators\n",
        "num == 12"
      ],
      "metadata": {
        "colab": {
          "base_uri": "https://localhost:8080/"
        },
        "id": "4Hpd3IRTReRW",
        "outputId": "219cfdda-3275-4a33-e57d-19040c92e59c"
      },
      "execution_count": null,
      "outputs": [
        {
          "output_type": "execute_result",
          "data": {
            "text/plain": [
              "False"
            ]
          },
          "metadata": {},
          "execution_count": 10
        }
      ]
    },
    {
      "cell_type": "markdown",
      "source": [
        "#Comparison operators used to compare two numbers, two strings or two variables - When creating a programme that uses conditions, you use comparison operators"
      ],
      "metadata": {
        "id": "XwkReLjuSA_Y"
      }
    },
    {
      "cell_type": "code",
      "source": [
        "num != 15"
      ],
      "metadata": {
        "colab": {
          "base_uri": "https://localhost:8080/"
        },
        "id": "NZFCb6PjRj-m",
        "outputId": "d00f28ef-0c9b-46a7-fc35-a40cdee96c08"
      },
      "execution_count": null,
      "outputs": [
        {
          "output_type": "execute_result",
          "data": {
            "text/plain": [
              "True"
            ]
          },
          "metadata": {},
          "execution_count": 11
        }
      ]
    },
    {
      "cell_type": "code",
      "source": [
        "num > 5"
      ],
      "metadata": {
        "colab": {
          "base_uri": "https://localhost:8080/"
        },
        "id": "hc-L4sh8RtFd",
        "outputId": "757eba1d-8231-4113-ecd3-051555a9a148"
      },
      "execution_count": null,
      "outputs": [
        {
          "output_type": "execute_result",
          "data": {
            "text/plain": [
              "False"
            ]
          },
          "metadata": {},
          "execution_count": 12
        }
      ]
    },
    {
      "cell_type": "code",
      "source": [
        "num < 6"
      ],
      "metadata": {
        "colab": {
          "base_uri": "https://localhost:8080/"
        },
        "id": "coi4dITkRx5L",
        "outputId": "0f5f133e-4feb-47bd-f6f5-6dfc4735c7eb"
      },
      "execution_count": null,
      "outputs": [
        {
          "output_type": "execute_result",
          "data": {
            "text/plain": [
              "True"
            ]
          },
          "metadata": {},
          "execution_count": 13
        }
      ]
    },
    {
      "cell_type": "code",
      "source": [
        "num <= 17"
      ],
      "metadata": {
        "colab": {
          "base_uri": "https://localhost:8080/"
        },
        "id": "GNRVzsFYR1_-",
        "outputId": "1123a3ad-525e-41ac-8575-5b5052584ac1"
      },
      "execution_count": null,
      "outputs": [
        {
          "output_type": "execute_result",
          "data": {
            "text/plain": [
              "True"
            ]
          },
          "metadata": {},
          "execution_count": 14
        }
      ]
    },
    {
      "cell_type": "markdown",
      "source": [
        "Logical Operators - Checks boundaries between comparison operators. For example: 'And' 'Or' operators"
      ],
      "metadata": {
        "id": "sd1Wnw7KSFDS"
      }
    },
    {
      "cell_type": "code",
      "source": [
        "age1 = 25\n",
        "age2 = 30\n",
        "\n",
        "age1 > 20 and age2 <35 #if the left hand side is tru and the right hand side is true, it will be a True output"
      ],
      "metadata": {
        "colab": {
          "base_uri": "https://localhost:8080/"
        },
        "id": "GfUMmzFxSLv2",
        "outputId": "018ff32a-26a5-4477-c6f2-0650b5e2c44b"
      },
      "execution_count": null,
      "outputs": [
        {
          "output_type": "execute_result",
          "data": {
            "text/plain": [
              "True"
            ]
          },
          "metadata": {},
          "execution_count": 15
        }
      ]
    },
    {
      "cell_type": "code",
      "source": [
        "age1 > 20 or age2 > 35 #It only asks for one of the sides to be true"
      ],
      "metadata": {
        "colab": {
          "base_uri": "https://localhost:8080/"
        },
        "id": "BJUX2SEZS6d9",
        "outputId": "c95e6003-c0ec-47e5-e850-91d57ddd918e"
      },
      "execution_count": null,
      "outputs": [
        {
          "output_type": "execute_result",
          "data": {
            "text/plain": [
              "True"
            ]
          },
          "metadata": {},
          "execution_count": 16
        }
      ]
    },
    {
      "cell_type": "code",
      "source": [
        "not(age1 > 20 or age2 > 35) #"
      ],
      "metadata": {
        "id": "zi1d_lZYTH6j"
      },
      "execution_count": null,
      "outputs": []
    },
    {
      "cell_type": "markdown",
      "source": [
        "#membership operators - evaluates to True or False if a particular value is within a list. For example, is there a specific name within that list."
      ],
      "metadata": {
        "id": "rQ-E0yWeUIN9"
      }
    },
    {
      "cell_type": "markdown",
      "source": [
        ""
      ],
      "metadata": {
        "id": "bpfOvB-DUpZ0"
      }
    },
    {
      "cell_type": "code",
      "source": [
        "names = [\"David\", \"Oluchi\", \"Ben\", \"Yomi\"]\n",
        "names\n"
      ],
      "metadata": {
        "colab": {
          "base_uri": "https://localhost:8080/"
        },
        "id": "YIDrKW6ZTTG-",
        "outputId": "740f5176-8214-430e-baff-4cac2480fa8a"
      },
      "execution_count": null,
      "outputs": [
        {
          "output_type": "execute_result",
          "data": {
            "text/plain": [
              "['David', 'Oluchi', 'Ben', 'Yomi']"
            ]
          },
          "metadata": {},
          "execution_count": 19
        }
      ]
    },
    {
      "cell_type": "code",
      "source": [
        "\"David\" in names"
      ],
      "metadata": {
        "colab": {
          "base_uri": "https://localhost:8080/"
        },
        "id": "f_PS3UHUUCG0",
        "outputId": "5383a630-6379-4808-bfbb-a604369691e7"
      },
      "execution_count": null,
      "outputs": [
        {
          "output_type": "execute_result",
          "data": {
            "text/plain": [
              "True"
            ]
          },
          "metadata": {},
          "execution_count": 20
        }
      ]
    },
    {
      "cell_type": "markdown",
      "source": [
        "Write a programme that asks the user to enter a number. Store that number, add 2 to that variable, store the result in the same variable, then print out the value."
      ],
      "metadata": {
        "id": "molV1T5DXGr5"
      }
    },
    {
      "cell_type": "code",
      "source": [
        "number = int(input(\"Enter a number: \"))\n",
        "number = number + 2\n",
        "print(number)\n",
        "\n"
      ],
      "metadata": {
        "id": "vORvQA3OXc2W"
      },
      "execution_count": null,
      "outputs": []
    },
    {
      "cell_type": "markdown",
      "source": [
        "Task 5: Ask the user for "
      ],
      "metadata": {
        "id": "8YnfsHR5Zl_y"
      }
    },
    {
      "cell_type": "code",
      "source": [
        "number_1 = input(\"enter a number please \")\n",
        "number_2 = input(\"enter a number please \")\n",
        "number_3 = input(\"Enter a number please \")\n",
        "number_4 = input(\"Enter a number please \")\n",
        "number_5 = input(\"Enter a number please \")\n",
        "print(f\"{number_1}, {number_2}, {number_3}, {number_4}, {number_5}\" sep = )\n"
      ],
      "metadata": {
        "colab": {
          "base_uri": "https://localhost:8080/"
        },
        "id": "_pyYa6qwaEf5",
        "outputId": "74cad4ec-cbdd-4fe2-951e-28b8881bd688"
      },
      "execution_count": null,
      "outputs": [
        {
          "name": "stdout",
          "output_type": "stream",
          "text": [
            "enter a number please 5\n",
            "enter a number please 10\n",
            "Enter a number please 15\n",
            "Enter a number please 20\n",
            "Enter a number please 25\n"
          ]
        }
      ]
    },
    {
      "cell_type": "markdown",
      "source": [
        "Task 6: Ask the user for their name and age. Print out the users age in dog years"
      ],
      "metadata": {
        "id": "9DJeTDF8baKV"
      }
    },
    {
      "cell_type": "code",
      "source": [
        "name = input(\"what is your name?\")\n",
        "age = int(input (\"How old are you?\"))\n",
        "dog_years = (age)/15\n",
        "dog_years = str(dog_years)\n",
        "\n",
        "print(f\"Hello {name}, you are {dog_years} years old, in dog years\")"
      ],
      "metadata": {
        "id": "PI3qzhqPbpkK"
      },
      "execution_count": null,
      "outputs": []
    },
    {
      "cell_type": "markdown",
      "source": [
        "Task 7:\n",
        "Write a program to calculate the area of a football field and its parameter"
      ],
      "metadata": {
        "id": "9xeBd96GfFIv"
      }
    },
    {
      "cell_type": "code",
      "source": [
        "# Python Program to find the area of a football and its parameter\n",
        "\n",
        "length = float(input('Please Enter the Length: '))\n",
        "width = float(input('Please Enter the Width: '))\n",
        "area = (length) * (width)\n",
        "\n",
        "# calculate the parameter\n",
        "perimeter = 2 * (length + width)\n",
        "\n",
        "print(f\"area of a football using\", length, \"and\", width, \" = \", parameter)"
      ],
      "metadata": {
        "id": "VPmlVB5PfQH7"
      },
      "execution_count": null,
      "outputs": []
    },
    {
      "cell_type": "markdown",
      "source": [
        "Python Lists: Python lists are one of the most important data types. Unlike strings you can store multiple types. The basic operators that can be perfomed on Python lists (also known as an array) are as follows;\n",
        "\n",
        "append - adds to the list;\n",
        "copy - ;\n",
        "index;\n",
        "insert;\n",
        "pop;\n",
        "remove;\n",
        "reverse;\n",
        "sort."
      ],
      "metadata": {
        "id": "m3zXcxbjmInr"
      }
    },
    {
      "cell_type": "code",
      "source": [
        "#append - adds to the list, but only one value at a time\n",
        "names = [\"Chris\", \"Shaun\", \"Millicent\", \"Dorine\"]\n",
        "names"
      ],
      "metadata": {
        "colab": {
          "base_uri": "https://localhost:8080/"
        },
        "id": "YmEpsqYJm7Ob",
        "outputId": "5bd0cbaa-e7fe-4315-b569-0c7af01f91d1"
      },
      "execution_count": null,
      "outputs": [
        {
          "output_type": "execute_result",
          "data": {
            "text/plain": [
              "['Chris', 'Shaun', 'Millicent', 'Dorine']"
            ]
          },
          "metadata": {},
          "execution_count": 31
        }
      ]
    },
    {
      "cell_type": "code",
      "source": [
        "updated_list = names.append(\"Chioma\")\n",
        "print(names)"
      ],
      "metadata": {
        "colab": {
          "base_uri": "https://localhost:8080/"
        },
        "id": "Lx7vJutmniaD",
        "outputId": "97b98912-0b66-4fb8-8f32-f4d0c99e6292"
      },
      "execution_count": null,
      "outputs": [
        {
          "output_type": "stream",
          "name": "stdout",
          "text": [
            "['Chris', 'Shaun', 'Millicent', 'Dorine', 'Chioma']\n"
          ]
        }
      ]
    },
    {
      "cell_type": "code",
      "source": [
        "#copy - copies the list - creates a copy and saves it into a new variable, so that you do not modify the original code\n",
        "new_names = names.copy()\n"
      ],
      "metadata": {
        "id": "VyitvJOXoES5"
      },
      "execution_count": null,
      "outputs": []
    },
    {
      "cell_type": "code",
      "source": [
        "#index - outputs the value of the index (element) that you are looking for.\n",
        "names.index(\"Millicent\")"
      ],
      "metadata": {
        "colab": {
          "base_uri": "https://localhost:8080/"
        },
        "id": "OtfdTG7conPw",
        "outputId": "e76a00c9-c8f8-433f-95c4-2b8c964c15f0"
      },
      "execution_count": null,
      "outputs": [
        {
          "output_type": "execute_result",
          "data": {
            "text/plain": [
              "2"
            ]
          },
          "metadata": {},
          "execution_count": 33
        }
      ]
    },
    {
      "cell_type": "code",
      "source": [
        "#insert - takes in the index and what you want to add, allowing you to specify where we want to place the additional value.\n",
        "names.insert(2, \"Lydia\")\n",
        "print(names)"
      ],
      "metadata": {
        "colab": {
          "base_uri": "https://localhost:8080/"
        },
        "id": "fJcaxgBSo9xX",
        "outputId": "7846b494-55fe-4616-885d-89919289c1ef"
      },
      "execution_count": null,
      "outputs": [
        {
          "output_type": "stream",
          "name": "stdout",
          "text": [
            "['Chris', 'Shaun', 'Lydia', 'Millicent', 'Dorine', 'Chioma']\n"
          ]
        }
      ]
    },
    {
      "cell_type": "code",
      "source": [
        "#pop - renews the value of a particular item in your list\n",
        "names.pop(2) \n",
        "\n",
        "number2 = names.pop(2) #you can save this value and put it in a new variable\n",
        "number2"
      ],
      "metadata": {
        "colab": {
          "base_uri": "https://localhost:8080/",
          "height": 35
        },
        "id": "OMHpl4zfph6V",
        "outputId": "510bfa5b-51fc-40f4-8ab7-3370c8be6b1d"
      },
      "execution_count": null,
      "outputs": [
        {
          "output_type": "execute_result",
          "data": {
            "text/plain": [
              "'Millicent'"
            ],
            "application/vnd.google.colaboratory.intrinsic+json": {
              "type": "string"
            }
          },
          "metadata": {},
          "execution_count": 35
        }
      ]
    },
    {
      "cell_type": "code",
      "source": [
        "#Remove: removes a particular value in the list\n",
        "names.remove('Lydia')"
      ],
      "metadata": {
        "id": "JqBAPjSvqawv"
      },
      "execution_count": null,
      "outputs": []
    },
    {
      "cell_type": "code",
      "source": [
        "names"
      ],
      "metadata": {
        "colab": {
          "base_uri": "https://localhost:8080/"
        },
        "id": "wKD674bmq9Lp",
        "outputId": "133fd888-69a6-4606-d42e-bb576eae2d50"
      },
      "execution_count": null,
      "outputs": [
        {
          "output_type": "execute_result",
          "data": {
            "text/plain": [
              "['Chris', 'Shaun', 'Dorine', 'Chioma']"
            ]
          },
          "metadata": {},
          "execution_count": 39
        }
      ]
    },
    {
      "cell_type": "code",
      "source": [
        "#reverse - for the current order - it reverses the list; from the last to the first\n",
        "names.reverse()\n",
        "names"
      ],
      "metadata": {
        "colab": {
          "base_uri": "https://localhost:8080/"
        },
        "id": "tQynNxpmrCA4",
        "outputId": "8a94b616-717e-408e-cd9e-fc9091987111"
      },
      "execution_count": null,
      "outputs": [
        {
          "output_type": "execute_result",
          "data": {
            "text/plain": [
              "['Chioma', 'Dorine', 'Shaun', 'Chris']"
            ]
          },
          "metadata": {},
          "execution_count": 42
        }
      ]
    },
    {
      "cell_type": "code",
      "source": [
        "#sort - sorts the list in alphabetical order\n",
        "names"
      ],
      "metadata": {
        "colab": {
          "base_uri": "https://localhost:8080/"
        },
        "id": "jALCPSturR1y",
        "outputId": "93771753-d548-42ca-faeb-63bd01f23593"
      },
      "execution_count": null,
      "outputs": [
        {
          "output_type": "execute_result",
          "data": {
            "text/plain": [
              "['Chioma', 'Dorine', 'Shaun', 'Chris']"
            ]
          },
          "metadata": {},
          "execution_count": 43
        }
      ]
    },
    {
      "cell_type": "code",
      "source": [
        "names.sort()\n",
        "names"
      ],
      "metadata": {
        "colab": {
          "base_uri": "https://localhost:8080/"
        },
        "id": "8pGU-3YQra2O",
        "outputId": "0ce027c0-59b6-4d25-d8b7-a69331488850"
      },
      "execution_count": null,
      "outputs": [
        {
          "output_type": "execute_result",
          "data": {
            "text/plain": [
              "['Chioma', 'Chris', 'Dorine', 'Shaun']"
            ]
          },
          "metadata": {},
          "execution_count": 44
        }
      ]
    },
    {
      "cell_type": "code",
      "source": [
        "#extend - adds to the list and enables you to add multiple values\n",
        "names"
      ],
      "metadata": {
        "colab": {
          "base_uri": "https://localhost:8080/"
        },
        "id": "iARSxtAhrfUc",
        "outputId": "1acea4eb-3338-4ea7-871a-4a7268e9891b"
      },
      "execution_count": null,
      "outputs": [
        {
          "output_type": "execute_result",
          "data": {
            "text/plain": [
              "['Chioma', 'Chris', 'Dorine', 'Shaun']"
            ]
          },
          "metadata": {},
          "execution_count": 45
        }
      ]
    },
    {
      "cell_type": "code",
      "source": [
        "new_list = ['April', 'Tierney', 'Chenai']\n",
        "names.extend(new_list)"
      ],
      "metadata": {
        "id": "3aqLiCynrhxn"
      },
      "execution_count": null,
      "outputs": []
    },
    {
      "cell_type": "code",
      "source": [
        "#count - counts the number of times a particular item appears in a list"
      ],
      "metadata": {
        "id": "hj-67JBGscvQ"
      },
      "execution_count": null,
      "outputs": []
    }
  ]
}