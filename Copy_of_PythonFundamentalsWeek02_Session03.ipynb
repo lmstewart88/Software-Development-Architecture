{
  "nbformat": 4,
  "nbformat_minor": 0,
  "metadata": {
    "colab": {
      "name": "Copy of PythonFundamentalsWeek02-Session03.ipynb",
      "provenance": [],
      "authorship_tag": "ABX9TyMNFQTzZJgxVnUxLD6kG2Ex",
      "include_colab_link": true
    },
    "kernelspec": {
      "name": "python3",
      "display_name": "Python 3"
    },
    "language_info": {
      "name": "python"
    }
  },
  "cells": [
    {
      "cell_type": "markdown",
      "metadata": {
        "id": "view-in-github",
        "colab_type": "text"
      },
      "source": [
        "<a href=\"https://colab.research.google.com/github/lmstewart88/Software-Development-Architecture/blob/main/Copy_of_PythonFundamentalsWeek02_Session03.ipynb\" target=\"_parent\"><img src=\"https://colab.research.google.com/assets/colab-badge.svg\" alt=\"Open In Colab\"/></a>"
      ]
    },
    {
      "cell_type": "code",
      "execution_count": null,
      "metadata": {
        "colab": {
          "base_uri": "https://localhost:8080/"
        },
        "id": "Tb61oxVJlvN-",
        "outputId": "3a4b57bd-9d8b-4af3-c1f0-77436c1ad80b"
      },
      "outputs": [
        {
          "output_type": "execute_result",
          "data": {
            "text/plain": [
              "list"
            ]
          },
          "metadata": {},
          "execution_count": 4
        }
      ],
      "source": [
        "#Lists\n",
        "countries = [\"Kenya\", \"Ghana\", \"Nigeria\", \"South Africa\", \"Namibia\", \"Jamaica\"]\n",
        "type(countries)\n"
      ]
    },
    {
      "cell_type": "code",
      "source": [
        "#Unpacking - You can assign multiple values to a variable. For example-:\n",
        "p1, p2, p3, p4, p5, p6 = [\"Kenya\", \"Ghana\", \"Nigeria\", \"South Africa\", \"Namibia\", \"Jamaica\"]\n",
        "print(p1)\n",
        "print(p2)\n",
        "print(p3)\n"
      ],
      "metadata": {
        "colab": {
          "base_uri": "https://localhost:8080/"
        },
        "id": "Y_bJO3AgyIkv",
        "outputId": "1c9df8af-7990-4b78-9f55-e6941bff1d2a"
      },
      "execution_count": null,
      "outputs": [
        {
          "output_type": "stream",
          "name": "stdout",
          "text": [
            "Kenya\n",
            "Ghana\n",
            "Nigeria\n"
          ]
        }
      ]
    },
    {
      "cell_type": "code",
      "source": [
        ""
      ],
      "metadata": {
        "id": "YAzFEBdpsz8s"
      },
      "execution_count": null,
      "outputs": []
    },
    {
      "cell_type": "code",
      "source": [
        "#length of lists\n",
        "len(countries)"
      ],
      "metadata": {
        "colab": {
          "base_uri": "https://localhost:8080/"
        },
        "id": "eYXh8itkstnW",
        "outputId": "127ad964-c535-4bff-b2a3-3cbc0ae24d2d"
      },
      "execution_count": null,
      "outputs": [
        {
          "output_type": "execute_result",
          "data": {
            "text/plain": [
              "4"
            ]
          },
          "metadata": {},
          "execution_count": 5
        }
      ]
    },
    {
      "cell_type": "code",
      "source": [
        "#Slicing and dicing lists - You can return a range of characters by using the slice syntax. \n",
        "#Specify the start index and the end index, separated by a colon, to return a part of the string. general rule: my_list = [start:end:stepsize]\n",
        "countries[:4] #print all elements until the 4th index "
      ],
      "metadata": {
        "colab": {
          "base_uri": "https://localhost:8080/"
        },
        "id": "guPrFB9gs1me",
        "outputId": "f509f321-64b4-49ff-8ea6-c5d6ace4cb69"
      },
      "execution_count": null,
      "outputs": [
        {
          "output_type": "execute_result",
          "data": {
            "text/plain": [
              "['Kenya', 'Ghana', 'Nigeria', 'South Africa']"
            ]
          },
          "metadata": {},
          "execution_count": 6
        }
      ]
    },
    {
      "cell_type": "code",
      "source": [
        "countries[3:] #when the number is placed before the colon, then you are asking the programme to slice the first three elements in the list, and show the 3rd index"
      ],
      "metadata": {
        "colab": {
          "base_uri": "https://localhost:8080/"
        },
        "id": "IwHkuq78tEVC",
        "outputId": "b4b02f57-0446-4aed-b990-5f6b1d4c2d08"
      },
      "execution_count": null,
      "outputs": [
        {
          "output_type": "execute_result",
          "data": {
            "text/plain": [
              "['South Africa']"
            ]
          },
          "metadata": {},
          "execution_count": 7
        }
      ]
    },
    {
      "cell_type": "code",
      "source": [
        "countries[-4]"
      ],
      "metadata": {
        "colab": {
          "base_uri": "https://localhost:8080/",
          "height": 35
        },
        "id": "VK-MkvoYvbRv",
        "outputId": "aa0cc65a-263d-4a0c-e750-2ce8ea06b20e"
      },
      "execution_count": null,
      "outputs": [
        {
          "output_type": "execute_result",
          "data": {
            "text/plain": [
              "'Kenya'"
            ],
            "application/vnd.google.colaboratory.intrinsic+json": {
              "type": "string"
            }
          },
          "metadata": {},
          "execution_count": 9
        }
      ]
    },
    {
      "cell_type": "code",
      "source": [
        "countries[1:]"
      ],
      "metadata": {
        "colab": {
          "base_uri": "https://localhost:8080/"
        },
        "id": "VXggYqrLvwue",
        "outputId": "a1220273-c0f2-4f4c-c29e-a283d3b8d78e"
      },
      "execution_count": null,
      "outputs": [
        {
          "output_type": "execute_result",
          "data": {
            "text/plain": [
              "['Ghana', 'Nigeria', 'South Africa']"
            ]
          },
          "metadata": {},
          "execution_count": 10
        }
      ]
    },
    {
      "cell_type": "code",
      "source": [
        "ages = [12,30,33,29,6,4,65,38]\n",
        "ages"
      ],
      "metadata": {
        "colab": {
          "base_uri": "https://localhost:8080/"
        },
        "id": "dbNNNBn_v2e7",
        "outputId": "89677263-4966-44f4-9007-ce7bb121633b"
      },
      "execution_count": null,
      "outputs": [
        {
          "output_type": "execute_result",
          "data": {
            "text/plain": [
              "[12, 30, 33, 29, 6, 4, 65, 38]"
            ]
          },
          "metadata": {},
          "execution_count": 11
        }
      ]
    },
    {
      "cell_type": "code",
      "source": [
        "ages[2:7]"
      ],
      "metadata": {
        "colab": {
          "base_uri": "https://localhost:8080/"
        },
        "id": "gSuZtPZGwDQm",
        "outputId": "4682a0fb-3579-4a18-82eb-40f4bb68804b"
      },
      "execution_count": null,
      "outputs": [
        {
          "output_type": "execute_result",
          "data": {
            "text/plain": [
              "[33, 29, 6, 4, 65]"
            ]
          },
          "metadata": {},
          "execution_count": 12
        }
      ]
    },
    {
      "cell_type": "code",
      "source": [
        "max(ages)"
      ],
      "metadata": {
        "colab": {
          "base_uri": "https://localhost:8080/"
        },
        "id": "MFJqd8XcwH1R",
        "outputId": "9edcd3de-97fc-4484-8241-25a32f651978"
      },
      "execution_count": null,
      "outputs": [
        {
          "output_type": "execute_result",
          "data": {
            "text/plain": [
              "65"
            ]
          },
          "metadata": {},
          "execution_count": 13
        }
      ]
    },
    {
      "cell_type": "code",
      "source": [
        "min(ages)"
      ],
      "metadata": {
        "colab": {
          "base_uri": "https://localhost:8080/"
        },
        "id": "F8gCiMacwM0s",
        "outputId": "e18fd68c-1f85-4dbe-9ed1-4f0b08c74dc3"
      },
      "execution_count": null,
      "outputs": [
        {
          "output_type": "execute_result",
          "data": {
            "text/plain": [
              "4"
            ]
          },
          "metadata": {},
          "execution_count": 14
        }
      ]
    },
    {
      "cell_type": "code",
      "source": [
        "min(countries)"
      ],
      "metadata": {
        "colab": {
          "base_uri": "https://localhost:8080/",
          "height": 35
        },
        "id": "MeHbi6iUwPQ-",
        "outputId": "5e0c00fe-269c-48a6-b801-92415c4a5164"
      },
      "execution_count": null,
      "outputs": [
        {
          "output_type": "execute_result",
          "data": {
            "text/plain": [
              "'Ghana'"
            ],
            "application/vnd.google.colaboratory.intrinsic+json": {
              "type": "string"
            }
          },
          "metadata": {},
          "execution_count": 15
        }
      ]
    },
    {
      "cell_type": "code",
      "source": [
        "max(countries)"
      ],
      "metadata": {
        "colab": {
          "base_uri": "https://localhost:8080/",
          "height": 35
        },
        "id": "r_eqe0vnwTDH",
        "outputId": "8f1720ac-b1ab-443b-d2bd-dd2364fe9d68"
      },
      "execution_count": null,
      "outputs": [
        {
          "output_type": "execute_result",
          "data": {
            "text/plain": [
              "'South Africa'"
            ],
            "application/vnd.google.colaboratory.intrinsic+json": {
              "type": "string"
            }
          },
          "metadata": {},
          "execution_count": 16
        }
      ]
    },
    {
      "cell_type": "markdown",
      "source": [
        "Tuples - Theses are lists that cannot be changed. They are immutable."
      ],
      "metadata": {
        "id": "lWkmWA8LwYGs"
      }
    },
    {
      "cell_type": "code",
      "source": [
        "#You can caste the list to a tuple using the relevant keyword\n",
        "new_tuple = tuple(countries)\n",
        "type(new_tuple)"
      ],
      "metadata": {
        "colab": {
          "base_uri": "https://localhost:8080/"
        },
        "id": "j7luESQGwdmj",
        "outputId": "2be5b1a8-a2c8-4ac0-86bc-0f1f94d62d4d"
      },
      "execution_count": null,
      "outputs": [
        {
          "output_type": "execute_result",
          "data": {
            "text/plain": [
              "tuple"
            ]
          },
          "metadata": {},
          "execution_count": 17
        }
      ]
    },
    {
      "cell_type": "code",
      "source": [
        "#You can also use regular brackets to create tuples \n",
        "my_tuple = (\"Mercedes\", \"Tesla\", \"Lexus\", 3, True,\"cars\" )\n",
        "my_tuple"
      ],
      "metadata": {
        "colab": {
          "base_uri": "https://localhost:8080/"
        },
        "id": "bQfoN7W9wwmN",
        "outputId": "64bd6b37-d39f-4ad5-ac32-0a337b6d5875"
      },
      "execution_count": null,
      "outputs": [
        {
          "output_type": "execute_result",
          "data": {
            "text/plain": [
              "('Mercedes', 'Tesla', 'Lexus', 3, True, 'cars')"
            ]
          },
          "metadata": {},
          "execution_count": 19
        }
      ]
    },
    {
      "cell_type": "code",
      "source": [
        "#Slicing on strings \n",
        "var = \"disruptorbootcamp\"\n",
        "var"
      ],
      "metadata": {
        "colab": {
          "base_uri": "https://localhost:8080/",
          "height": 35
        },
        "id": "v5SMjd8uzM78",
        "outputId": "d343b444-e1fa-4e8d-c8b9-2d6abf00522a"
      },
      "execution_count": null,
      "outputs": [
        {
          "output_type": "execute_result",
          "data": {
            "text/plain": [
              "'disruptorbootcamp'"
            ],
            "application/vnd.google.colaboratory.intrinsic+json": {
              "type": "string"
            }
          },
          "metadata": {},
          "execution_count": 21
        }
      ]
    },
    {
      "cell_type": "code",
      "source": [
        "#For example, to slice the word 'disruptbootcamp', you can do the following-\n",
        "var[:9]"
      ],
      "metadata": {
        "colab": {
          "base_uri": "https://localhost:8080/",
          "height": 35
        },
        "id": "gV_ic7aGzXkK",
        "outputId": "6fffa261-ec88-4ba6-a4bb-bc2317a3ea31"
      },
      "execution_count": null,
      "outputs": [
        {
          "output_type": "execute_result",
          "data": {
            "text/plain": [
              "'disruptor'"
            ],
            "application/vnd.google.colaboratory.intrinsic+json": {
              "type": "string"
            }
          },
          "metadata": {},
          "execution_count": 24
        }
      ]
    },
    {
      "cell_type": "code",
      "source": [
        "#To print the bootcamp section, do the following-:\n",
        "var[9:]"
      ],
      "metadata": {
        "colab": {
          "base_uri": "https://localhost:8080/",
          "height": 35
        },
        "id": "cstgFuE2zmhh",
        "outputId": "ae6387b6-b77b-46c4-fa37-99a874ce1d42"
      },
      "execution_count": null,
      "outputs": [
        {
          "output_type": "execute_result",
          "data": {
            "text/plain": [
              "'bootcamp'"
            ],
            "application/vnd.google.colaboratory.intrinsic+json": {
              "type": "string"
            }
          },
          "metadata": {},
          "execution_count": 25
        }
      ]
    },
    {
      "cell_type": "markdown",
      "source": [
        "Negative index - counting from the last item in the list backwards. From the left you count from 0 index, from the right, you strat from -1/-2"
      ],
      "metadata": {
        "id": "hEKC4lf3z7HV"
      }
    },
    {
      "cell_type": "code",
      "source": [
        "#Create a program that takes in two numbers and then outputs the average of the two numbers (use list unpacking)\n",
        "numbers = [5, 6]\n",
        "number_1, number_2 = numbers\n",
        "print(number_1 + number_2/2)"
      ],
      "metadata": {
        "id": "EzSR4PvL0NkI",
        "colab": {
          "base_uri": "https://localhost:8080/"
        },
        "outputId": "42604b5f-3df8-4234-b3c4-4362b22a6a3a"
      },
      "execution_count": null,
      "outputs": [
        {
          "output_type": "stream",
          "name": "stdout",
          "text": [
            "8.0\n"
          ]
        }
      ]
    },
    {
      "cell_type": "code",
      "source": [
        "number_1, number_2 = [6,8]\n",
        "avg = number_1 + number_2/2 #average\n",
        "print(avg)"
      ],
      "metadata": {
        "id": "eSvTNRk-z5uR",
        "colab": {
          "base_uri": "https://localhost:8080/"
        },
        "outputId": "1223a39c-00db-4a36-d700-b68d5c7975b7"
      },
      "execution_count": null,
      "outputs": [
        {
          "output_type": "stream",
          "name": "stdout",
          "text": [
            "10.0\n"
          ]
        }
      ]
    },
    {
      "cell_type": "markdown",
      "source": [
        "Task 4:\n",
        "Modify the list so that only the last three elements print"
      ],
      "metadata": {
        "id": "1S_KXsBm8-d7"
      }
    },
    {
      "cell_type": "code",
      "source": [
        "eclipse_dates = ['June 21, 2001', 'December 4, 2002', 'November 23, 2003',\n",
        "                 'March 29, 2006', 'August 1, 2008', 'July 22, 2009',\n",
        "                 'July 11, 2010', 'November 13, 2012', 'March 20, 2015',\n",
        "                 'March 9, 2016']\n",
        "eclipse_dates[-3:] #negative indexing"
      ],
      "metadata": {
        "colab": {
          "base_uri": "https://localhost:8080/"
        },
        "id": "evIsRA119uCh",
        "outputId": "617baef3-4407-4445-a752-7c3551eae4c0"
      },
      "execution_count": null,
      "outputs": [
        {
          "output_type": "execute_result",
          "data": {
            "text/plain": [
              "['November 13, 2012', 'March 20, 2015', 'March 9, 2016']"
            ]
          },
          "metadata": {},
          "execution_count": 28
        }
      ]
    },
    {
      "cell_type": "code",
      "source": [
        "eclipse_dates = ['June 21, 2001', 'December 4, 2002', 'November 23, 2003',\n",
        "                 'March 29, 2006', 'August 1, 2008', 'July 22, 2009',\n",
        "                 'July 11, 2010', 'November 13, 2012', 'March 20, 2015',\n",
        "                 'March 9, 2016']\n",
        "eclipse_dates[7:] #0 indexing"
      ],
      "metadata": {
        "colab": {
          "base_uri": "https://localhost:8080/"
        },
        "id": "GPsj9L4r-az0",
        "outputId": "4789d94a-0df8-4bf2-be30-90b414ace749"
      },
      "execution_count": null,
      "outputs": [
        {
          "output_type": "execute_result",
          "data": {
            "text/plain": [
              "['November 13, 2012', 'March 20, 2015', 'March 9, 2016']"
            ]
          },
          "metadata": {},
          "execution_count": 30
        }
      ]
    },
    {
      "cell_type": "markdown",
      "source": [
        "Task 2: days_in_month = [31,28,31,30,31,30,31,31,30,31,30,31]\n",
        "month of the calendar year\n",
        "(b) Calculate the number of days in each quarter(slicing)\n",
        "(c)Use functions to make our code more reusable\n",
        "use list indexing to determine the number of days in month\n",
        "\n"
      ],
      "metadata": {
        "id": "Cr536sVY9uye"
      }
    },
    {
      "cell_type": "code",
      "source": [
        "days_in_month = [31,28,31,30,31,30,31,31,30,31,30,31]\n",
        "quarter_1 = days_in_month[0:3]\n",
        "quarter_2 = days_in_month[3:6]\n",
        "quarter_3 = days_in_month[6:9]\n",
        "quarter_4 = days_in_month[9:]\n",
        "print(quarter_4)\n",
        "\n",
        "\n"
      ],
      "metadata": {
        "colab": {
          "base_uri": "https://localhost:8080/"
        },
        "id": "87w9utC3-2Dg",
        "outputId": "b3e1871c-b287-4729-ce64-5e4441e6228c"
      },
      "execution_count": null,
      "outputs": [
        {
          "output_type": "stream",
          "name": "stdout",
          "text": [
            "[31, 30, 31]\n"
          ]
        }
      ]
    },
    {
      "cell_type": "code",
      "source": [
        "#use functions to make the code more reusable - use list indexing to determine the number of days in a month\n",
        "number_of_days_in_quarter = sum(quarter_1)\n",
        "number_of_days_in_quarter = sum(quarter_2)\n",
        "number_of_days_in_quarter = sum(quarter_3)\n",
        "number_of_days_in_quarter = sum(quarter_4)\n",
        "\n",
        "print(sum(quarter_1))"
      ],
      "metadata": {
        "colab": {
          "base_uri": "https://localhost:8080/"
        },
        "id": "x0N4JYFjDjEv",
        "outputId": "3ba266d3-e433-4867-9dca-42313a812497"
      },
      "execution_count": null,
      "outputs": [
        {
          "output_type": "stream",
          "name": "stdout",
          "text": [
            "90\n"
          ]
        }
      ]
    },
    {
      "cell_type": "code",
      "source": [
        "#Sets - a collection of arrays that are unordered, unchangeable and unindexed - these data types are already sorted\n",
        "days_per_month = {31,28,31,30,31,30,31,31,30,31,30,31}\n",
        "days_per_month #removes all the duplicates"
      ],
      "metadata": {
        "colab": {
          "base_uri": "https://localhost:8080/"
        },
        "id": "QGbHTqcIJvJ4",
        "outputId": "7233e50f-3cd9-4904-c450-e5d62e364c5b"
      },
      "execution_count": null,
      "outputs": [
        {
          "output_type": "execute_result",
          "data": {
            "text/plain": [
              "{28, 30, 31}"
            ]
          },
          "metadata": {},
          "execution_count": 40
        }
      ]
    },
    {
      "cell_type": "code",
      "source": [
        "days_per_month = set({31,28,31,30,31,30,31,31,30,31,30,31, \"Kenya\", \"Nigeria\"}) #another way to create a set using parsing and the kewyword set\n",
        "days_per_month"
      ],
      "metadata": {
        "colab": {
          "base_uri": "https://localhost:8080/"
        },
        "id": "Qey8sJeaKR68",
        "outputId": "a3e2bde5-efbb-43b8-83d7-b588c4952b04"
      },
      "execution_count": null,
      "outputs": [
        {
          "output_type": "execute_result",
          "data": {
            "text/plain": [
              "{28, 30, 31, 'Kenya', 'Nigeria'}"
            ]
          },
          "metadata": {},
          "execution_count": 55
        }
      ]
    },
    {
      "cell_type": "code",
      "source": [
        "#Can also use casting to create a set\n",
        "days = set(countries)\n",
        "days"
      ],
      "metadata": {
        "colab": {
          "base_uri": "https://localhost:8080/"
        },
        "id": "kcXaS_biKlQz",
        "outputId": "dcae5df9-961d-4e47-a987-58ec5ee340e7"
      },
      "execution_count": null,
      "outputs": [
        {
          "output_type": "execute_result",
          "data": {
            "text/plain": [
              "{'Ghana', 'Kenya', 'Nigeria', 'South Africa'}"
            ]
          },
          "metadata": {},
          "execution_count": 42
        }
      ]
    },
    {
      "cell_type": "code",
      "source": [
        "#length of set \n",
        "len(days)"
      ],
      "metadata": {
        "colab": {
          "base_uri": "https://localhost:8080/"
        },
        "id": "eZ17C3NYKxv_",
        "outputId": "fb597737-13f5-4c85-dfcf-ffb797e9b652"
      },
      "execution_count": null,
      "outputs": [
        {
          "output_type": "execute_result",
          "data": {
            "text/plain": [
              "4"
            ]
          },
          "metadata": {},
          "execution_count": 43
        }
      ]
    },
    {
      "cell_type": "code",
      "source": [
        "#adding to a set\n",
        "days.add(\"Iceland\")\n",
        "days\n"
      ],
      "metadata": {
        "colab": {
          "base_uri": "https://localhost:8080/"
        },
        "id": "6WtOowOTLBHi",
        "outputId": "2e54533f-b46d-4b6e-a52e-49196b97de27"
      },
      "execution_count": null,
      "outputs": [
        {
          "output_type": "execute_result",
          "data": {
            "text/plain": [
              "{'Ghana', 'Iceland', 'Kenya', 'Nigeria', 'South Africa'}"
            ]
          },
          "metadata": {},
          "execution_count": 46
        }
      ]
    },
    {
      "cell_type": "code",
      "source": [
        "#joins two sets together\n",
        "days.union(days_per_month)"
      ],
      "metadata": {
        "colab": {
          "base_uri": "https://localhost:8080/"
        },
        "id": "VIceETvpLTHt",
        "outputId": "ad2cb6d8-c512-464c-c1bf-34447a748649"
      },
      "execution_count": null,
      "outputs": [
        {
          "output_type": "execute_result",
          "data": {
            "text/plain": [
              "{28, 30, 31, 'Ghana', 'Iceland', 'Kenya', 'Nigeria', 'South Africa'}"
            ]
          },
          "metadata": {},
          "execution_count": 47
        }
      ]
    },
    {
      "cell_type": "code",
      "source": [
        "#intersection - checks if there is any value that appears in the two sets created - the parameter \n",
        "days.intersection_update(days_per_month)\n",
        "days_per_month"
      ],
      "metadata": {
        "colab": {
          "base_uri": "https://localhost:8080/"
        },
        "id": "ZsZ6_rfVL5ff",
        "outputId": "a5cbaec8-095e-4a4e-f59e-d0213cce4f7a"
      },
      "execution_count": null,
      "outputs": [
        {
          "output_type": "execute_result",
          "data": {
            "text/plain": [
              "{28, 30, 31, 'Kenya', 'Nigeria'}"
            ]
          },
          "metadata": {},
          "execution_count": 56
        }
      ]
    },
    {
      "cell_type": "code",
      "source": [
        "#pop\n",
        "days_per_month.pop()"
      ],
      "metadata": {
        "colab": {
          "base_uri": "https://localhost:8080/",
          "height": 35
        },
        "id": "_HQFEUqqMdDb",
        "outputId": "3cf83032-17e1-4117-9c16-7a5d1da23954"
      },
      "execution_count": null,
      "outputs": [
        {
          "output_type": "execute_result",
          "data": {
            "text/plain": [
              "'Nigeria'"
            ],
            "application/vnd.google.colaboratory.intrinsic+json": {
              "type": "string"
            }
          },
          "metadata": {},
          "execution_count": 57
        }
      ]
    },
    {
      "cell_type": "code",
      "source": [
        "#clear - clears your tuple\n"
      ],
      "metadata": {
        "id": "AcQ9BwpIPMoH"
      },
      "execution_count": null,
      "outputs": []
    },
    {
      "cell_type": "code",
      "source": [
        "#delete\n",
        "del days_per_month"
      ],
      "metadata": {
        "id": "ZuSzTTXXPZpb"
      },
      "execution_count": null,
      "outputs": []
    }
  ]
}