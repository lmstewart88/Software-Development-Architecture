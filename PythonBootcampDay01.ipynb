{
  "nbformat": 4,
  "nbformat_minor": 0,
  "metadata": {
    "colab": {
      "name": "PythonBootcampDay01.ipynb",
      "provenance": [],
      "authorship_tag": "ABX9TyPzB1lZaqgPLPAsDWkafkUm",
      "include_colab_link": true
    },
    "kernelspec": {
      "name": "python3",
      "display_name": "Python 3"
    },
    "language_info": {
      "name": "python"
    }
  },
  "cells": [
    {
      "cell_type": "markdown",
      "metadata": {
        "id": "view-in-github",
        "colab_type": "text"
      },
      "source": [
        "<a href=\"https://colab.research.google.com/github/lmstewart88/Software-Development-Architecture/blob/main/PythonBootcampDay01.ipynb\" target=\"_parent\"><img src=\"https://colab.research.google.com/assets/colab-badge.svg\" alt=\"Open In Colab\"/></a>"
      ]
    },
    {
      "cell_type": "code",
      "execution_count": null,
      "metadata": {
        "id": "O667JCpR7eAy"
      },
      "outputs": [],
      "source": [
        ""
      ]
    },
    {
      "cell_type": "markdown",
      "source": [
        "Python Bootcamp Day 01: \n",
        "\n",
        "Fundamentals of Python"
      ],
      "metadata": {
        "id": "cB_yz1tf8Fad"
      }
    },
    {
      "cell_type": "code",
      "source": [
        "#creating a variable called name\n",
        "name = \"Lydia\""
      ],
      "metadata": {
        "id": "q4RDQCro8Tqz"
      },
      "execution_count": null,
      "outputs": []
    },
    {
      "cell_type": "code",
      "source": [
        "#a variable that highlights my interest:\n",
        "interests = \"I am interested in developing infrastructure and applications that empower and change the way people and places function\"\n"
      ],
      "metadata": {
        "id": "rxDhA9Y-8jMR"
      },
      "execution_count": null,
      "outputs": []
    },
    {
      "cell_type": "code",
      "source": [
        "Type(\"London\")"
      ],
      "metadata": {
        "id": "2gNJBSbZ-6RG"
      },
      "execution_count": null,
      "outputs": []
    },
    {
      "cell_type": "code",
      "source": [
        "#String value\n",
        "print(\"London\")"
      ],
      "metadata": {
        "colab": {
          "base_uri": "https://localhost:8080/"
        },
        "id": "T4Yockqy_Toy",
        "outputId": "79199caa-d30a-46fe-a5bb-8c561bd120a7"
      },
      "execution_count": 6,
      "outputs": [
        {
          "output_type": "stream",
          "name": "stdout",
          "text": [
            "London\n"
          ]
        }
      ]
    },
    {
      "cell_type": "markdown",
      "source": [
        ""
      ],
      "metadata": {
        "id": "rhjky5Bt_6nM"
      }
    },
    {
      "cell_type": "code",
      "source": [
        "Type(3)"
      ],
      "metadata": {
        "id": "lmX8kq4t_BVe"
      },
      "execution_count": null,
      "outputs": []
    },
    {
      "cell_type": "code",
      "source": [
        "#interger\n",
        "print(3)"
      ],
      "metadata": {
        "colab": {
          "base_uri": "https://localhost:8080/"
        },
        "id": "n2Tw6uq1_gjx",
        "outputId": "c800b478-fe90-40f3-f0bb-06765df20855"
      },
      "execution_count": 7,
      "outputs": [
        {
          "output_type": "stream",
          "name": "stdout",
          "text": [
            "3\n"
          ]
        }
      ]
    },
    {
      "cell_type": "code",
      "source": [
        "#string as a number\n",
        "Type(\"3\")\n"
      ],
      "metadata": {
        "id": "k9WEQborAf8B"
      },
      "execution_count": null,
      "outputs": []
    },
    {
      "cell_type": "code",
      "source": [
        "print(\"3\")"
      ],
      "metadata": {
        "colab": {
          "base_uri": "https://localhost:8080/"
        },
        "id": "P00LhPAnAxj4",
        "outputId": "d6044f22-bd4b-4938-d91c-f9870cf4c78c"
      },
      "execution_count": 9,
      "outputs": [
        {
          "output_type": "stream",
          "name": "stdout",
          "text": [
            "3\n"
          ]
        }
      ]
    },
    {
      "cell_type": "code",
      "source": [
        "#Boolean value\n",
        "Type(True)"
      ],
      "metadata": {
        "id": "sNP9vVy__Dnq"
      },
      "execution_count": null,
      "outputs": []
    },
    {
      "cell_type": "code",
      "source": [
        "print(True)"
      ],
      "metadata": {
        "colab": {
          "base_uri": "https://localhost:8080/"
        },
        "id": "xCaJn_2NA5C9",
        "outputId": "d0b0856a-11c7-4543-d167-d66035d76ad9"
      },
      "execution_count": 10,
      "outputs": [
        {
          "output_type": "stream",
          "name": "stdout",
          "text": [
            "True\n"
          ]
        }
      ]
    },
    {
      "cell_type": "code",
      "source": [
        "x = 7*3/2"
      ],
      "metadata": {
        "id": "pI8UdoGLDKPj"
      },
      "execution_count": null,
      "outputs": []
    },
    {
      "cell_type": "code",
      "source": [
        "7//2"
      ],
      "metadata": {
        "colab": {
          "base_uri": "https://localhost:8080/"
        },
        "id": "UkPqMBfpEQGk",
        "outputId": "0f12a3aa-3fb5-42a1-f791-f76eb8a9d7c8"
      },
      "execution_count": 14,
      "outputs": [
        {
          "output_type": "execute_result",
          "data": {
            "text/plain": [
              "3"
            ]
          },
          "metadata": {},
          "execution_count": 14
        }
      ]
    },
    {
      "cell_type": "code",
      "source": [
        "7 + 2/3** 2 - 5"
      ],
      "metadata": {
        "colab": {
          "base_uri": "https://localhost:8080/"
        },
        "id": "9kxBwYCtEgVz",
        "outputId": "a8328d1d-3ce5-4ee3-98fc-a23007d0dcb2"
      },
      "execution_count": 15,
      "outputs": [
        {
          "output_type": "execute_result",
          "data": {
            "text/plain": [
              "2.2222222222222223"
            ]
          },
          "metadata": {},
          "execution_count": 15
        }
      ]
    },
    {
      "cell_type": "code",
      "source": [
        "\"python\"+ 3"
      ],
      "metadata": {
        "colab": {
          "base_uri": "https://localhost:8080/",
          "height": 166
        },
        "id": "5gY9fKbcFkzx",
        "outputId": "2b79c63a-afda-4e04-8d14-90368b111781"
      },
      "execution_count": 21,
      "outputs": [
        {
          "output_type": "error",
          "ename": "TypeError",
          "evalue": "ignored",
          "traceback": [
            "\u001b[0;31m---------------------------------------------------------------------------\u001b[0m",
            "\u001b[0;31mTypeError\u001b[0m                                 Traceback (most recent call last)",
            "\u001b[0;32m<ipython-input-21-2b3e86e0f4b8>\u001b[0m in \u001b[0;36m<module>\u001b[0;34m()\u001b[0m\n\u001b[0;32m----> 1\u001b[0;31m \u001b[0;34m\"python\"\u001b[0m\u001b[0;34m+\u001b[0m \u001b[0;36m3\u001b[0m\u001b[0;34m\u001b[0m\u001b[0;34m\u001b[0m\u001b[0m\n\u001b[0m",
            "\u001b[0;31mTypeError\u001b[0m: can only concatenate str (not \"int\") to str"
          ]
        }
      ]
    },
    {
      "cell_type": "markdown",
      "source": [
        "You can not concatenate (add) string to an interger. But if you wrap the integer in quotation marks "
      ],
      "metadata": {
        "id": "OXADnrhqGX8X"
      }
    },
    {
      "cell_type": "code",
      "source": [
        "\"python\" *3"
      ],
      "metadata": {
        "colab": {
          "base_uri": "https://localhost:8080/",
          "height": 35
        },
        "id": "zx9V9lzxF0b4",
        "outputId": "8eeca42e-4a9f-46a5-a96b-ba5ffb886114"
      },
      "execution_count": 19,
      "outputs": [
        {
          "output_type": "execute_result",
          "data": {
            "text/plain": [
              "'pythonpythonpython'"
            ],
            "application/vnd.google.colaboratory.intrinsic+json": {
              "type": "string"
            }
          },
          "metadata": {},
          "execution_count": 19
        }
      ]
    },
    {
      "cell_type": "code",
      "source": [
        "3* \"python\" *3"
      ],
      "metadata": {
        "colab": {
          "base_uri": "https://localhost:8080/",
          "height": 35
        },
        "id": "8xoqtpujF-bn",
        "outputId": "18de5908-9350-4f2a-84f5-8d146a853f5a"
      },
      "execution_count": 20,
      "outputs": [
        {
          "output_type": "execute_result",
          "data": {
            "text/plain": [
              "'pythonpythonpythonpythonpythonpythonpythonpythonpython'"
            ],
            "application/vnd.google.colaboratory.intrinsic+json": {
              "type": "string"
            }
          },
          "metadata": {},
          "execution_count": 20
        }
      ]
    },
    {
      "cell_type": "markdown",
      "source": [
        "Shows that the order in which the operator is placed does not change the output."
      ],
      "metadata": {
        "id": "zbWLgiOAJhLk"
      }
    },
    {
      "cell_type": "code",
      "source": [
        "\"i love\" *3 + \"python\""
      ],
      "metadata": {
        "colab": {
          "base_uri": "https://localhost:8080/",
          "height": 35
        },
        "id": "lxAhfVDwGNNy",
        "outputId": "7b6c9762-ba5d-4ba8-dbf5-2fdab3032f69"
      },
      "execution_count": 23,
      "outputs": [
        {
          "output_type": "execute_result",
          "data": {
            "text/plain": [
              "'i lovei lovei lovepython'"
            ],
            "application/vnd.google.colaboratory.intrinsic+json": {
              "type": "string"
            }
          },
          "metadata": {},
          "execution_count": 23
        }
      ]
    },
    {
      "cell_type": "code",
      "source": [
        "(\"I love python\") *3"
      ],
      "metadata": {
        "colab": {
          "base_uri": "https://localhost:8080/",
          "height": 35
        },
        "id": "FEHho_GsG04L",
        "outputId": "c92cd5c9-7a4c-4b1a-a2d1-9473777504b0"
      },
      "execution_count": 24,
      "outputs": [
        {
          "output_type": "execute_result",
          "data": {
            "text/plain": [
              "'I love pythonI love pythonI love python'"
            ],
            "application/vnd.google.colaboratory.intrinsic+json": {
              "type": "string"
            }
          },
          "metadata": {},
          "execution_count": 24
        }
      ]
    },
    {
      "cell_type": "markdown",
      "source": [
        "Taken into consideration BIDMAS (Taken everything in brackets and multiplied it)"
      ],
      "metadata": {
        "id": "Oa4WRoVEHBv2"
      }
    },
    {
      "cell_type": "code",
      "source": [
        "my variable = \"I love Python\""
      ],
      "metadata": {
        "id": "IgBiJZkiL1XQ"
      },
      "execution_count": null,
      "outputs": []
    },
    {
      "cell_type": "code",
      "source": [
        "print(\"I love Python\")"
      ],
      "metadata": {
        "colab": {
          "base_uri": "https://localhost:8080/"
        },
        "id": "VZUzNqJPL_UA",
        "outputId": "77422141-5819-4ff5-c87c-fde4827db5b7"
      },
      "execution_count": 26,
      "outputs": [
        {
          "output_type": "stream",
          "name": "stdout",
          "text": [
            "I love Python\n"
          ]
        }
      ]
    },
    {
      "cell_type": "code",
      "source": [
        "MyVariable = \"I hate Python\""
      ],
      "metadata": {
        "id": "h7eBgDuXMuAF"
      },
      "execution_count": null,
      "outputs": []
    },
    {
      "cell_type": "code",
      "source": [
        "print(MyVariable)"
      ],
      "metadata": {
        "id": "Pln18VrpM1ah"
      },
      "execution_count": null,
      "outputs": []
    },
    {
      "cell_type": "code",
      "source": [
        "#Using print function to get output\n",
        "print('The value of 3+4 is', 3+4)"
      ],
      "metadata": {
        "colab": {
          "base_uri": "https://localhost:8080/"
        },
        "id": "mQwDmZl4ObCa",
        "outputId": "b6617d46-0c16-4d20-9136-b3cb9bfb9201"
      },
      "execution_count": 28,
      "outputs": [
        {
          "output_type": "stream",
          "name": "stdout",
          "text": [
            "The value of 3+4 is 7\n"
          ]
        }
      ]
    },
    {
      "cell_type": "code",
      "source": [
        "print('A' 1,'XYZ',2)"
      ],
      "metadata": {
        "id": "sPQSRSlYOmiC"
      },
      "execution_count": null,
      "outputs": []
    },
    {
      "cell_type": "code",
      "source": [
        "#ask user for name \n",
        "greeting = input(\"Enter your name\")"
      ],
      "metadata": {
        "id": "gtz9Q_LySQIW"
      },
      "execution_count": null,
      "outputs": []
    },
    {
      "cell_type": "code",
      "source": [
        ""
      ],
      "metadata": {
        "id": "bAwt0zRoV9Ko"
      },
      "execution_count": null,
      "outputs": []
    }
  ]
}